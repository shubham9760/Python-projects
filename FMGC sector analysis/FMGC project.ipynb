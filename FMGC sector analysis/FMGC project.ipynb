{
 "cells": [
  {
   "cell_type": "markdown",
   "metadata": {},
   "source": [
    "<font color=\"red\" size=6>***In this project, I am creating the connection between mysql and python and then I will be performing some tasks in python***</font>"
   ]
  },
  {
   "cell_type": "code",
   "execution_count": 1,
   "metadata": {},
   "outputs": [],
   "source": [
    "import pandas as pd\n",
    "import pymysql\n",
    "import matplotlib.pyplot as plt \n",
    "import seaborn as sns\n",
    "import numpy as np"
   ]
  },
  {
   "cell_type": "markdown",
   "metadata": {},
   "source": [
    "<font color=\"red\">***We are now making the connection with the database using pymysql.***</font>"
   ]
  },
  {
   "cell_type": "code",
   "execution_count": 2,
   "metadata": {},
   "outputs": [
    {
     "name": "stdout",
     "output_type": "stream",
     "text": [
      "dim_customers\n",
      "dim_date\n",
      "dim_products\n",
      "dim_targets_orders\n",
      "fact_order_lines\n"
     ]
    }
   ],
   "source": [
    "conn = pymysql.connect(host=\"localhost\", port=int(3306), user=\"root\", passwd=\"root\", db=\"fmgc_product\")\n",
    "CursorInstance = conn.cursor()\n",
    "CursorInstance.execute(\"show tables\")\n",
    "for (i,) in CursorInstance:\n",
    "    print(i)"
   ]
  },
  {
   "cell_type": "code",
   "execution_count": 3,
   "metadata": {},
   "outputs": [
    {
     "data": {
      "text/html": [
       "<div>\n",
       "<style scoped>\n",
       "    .dataframe tbody tr th:only-of-type {\n",
       "        vertical-align: middle;\n",
       "    }\n",
       "\n",
       "    .dataframe tbody tr th {\n",
       "        vertical-align: top;\n",
       "    }\n",
       "\n",
       "    .dataframe thead th {\n",
       "        text-align: right;\n",
       "    }\n",
       "</style>\n",
       "<table border=\"1\" class=\"dataframe\">\n",
       "  <thead>\n",
       "    <tr style=\"text-align: right;\">\n",
       "      <th></th>\n",
       "      <th>customer_id</th>\n",
       "      <th>customer_name</th>\n",
       "      <th>city</th>\n",
       "    </tr>\n",
       "  </thead>\n",
       "  <tbody>\n",
       "    <tr>\n",
       "      <th>0</th>\n",
       "      <td>789201</td>\n",
       "      <td>Rel Fresh</td>\n",
       "      <td>Surat</td>\n",
       "    </tr>\n",
       "    <tr>\n",
       "      <th>1</th>\n",
       "      <td>789202</td>\n",
       "      <td>Rel Fresh</td>\n",
       "      <td>Ahmedabad</td>\n",
       "    </tr>\n",
       "    <tr>\n",
       "      <th>2</th>\n",
       "      <td>789203</td>\n",
       "      <td>Rel Fresh</td>\n",
       "      <td>Vadodara</td>\n",
       "    </tr>\n",
       "    <tr>\n",
       "      <th>3</th>\n",
       "      <td>789301</td>\n",
       "      <td>Expression Stores</td>\n",
       "      <td>Surat</td>\n",
       "    </tr>\n",
       "    <tr>\n",
       "      <th>4</th>\n",
       "      <td>789303</td>\n",
       "      <td>Expression Stores</td>\n",
       "      <td>Vadodara</td>\n",
       "    </tr>\n",
       "  </tbody>\n",
       "</table>\n",
       "</div>"
      ],
      "text/plain": [
       "   customer_id      customer_name       city\n",
       "0       789201          Rel Fresh      Surat\n",
       "1       789202          Rel Fresh  Ahmedabad\n",
       "2       789203          Rel Fresh   Vadodara\n",
       "3       789301  Expression Stores      Surat\n",
       "4       789303  Expression Stores   Vadodara"
      ]
     },
     "execution_count": 3,
     "metadata": {},
     "output_type": "execute_result"
    }
   ],
   "source": [
    "query = \"SELECT * FROM dim_customers\"\n",
    "CursorInstance.execute(query)\n",
    "dim_customer = []\n",
    "for (customer_id, customer_name, city) in CursorInstance:\n",
    "    dim_customer.append({\"customer_id\" : customer_id,\n",
    "                        \"customer_name\" : customer_name,\n",
    "                        \"city\" : city})\n",
    "df_dim_customer = pd.DataFrame(dim_customer)\n",
    "df_dim_customer.head()"
   ]
  },
  {
   "cell_type": "code",
   "execution_count": 4,
   "metadata": {},
   "outputs": [
    {
     "name": "stdout",
     "output_type": "stream",
     "text": [
      "<class 'pandas.core.frame.DataFrame'>\n",
      "RangeIndex: 35 entries, 0 to 34\n",
      "Data columns (total 3 columns):\n",
      " #   Column         Non-Null Count  Dtype \n",
      "---  ------         --------------  ----- \n",
      " 0   customer_id    35 non-null     int64 \n",
      " 1   customer_name  35 non-null     object\n",
      " 2   city           35 non-null     object\n",
      "dtypes: int64(1), object(2)\n",
      "memory usage: 972.0+ bytes\n"
     ]
    }
   ],
   "source": [
    "df_dim_customer.info()"
   ]
  },
  {
   "cell_type": "code",
   "execution_count": 5,
   "metadata": {},
   "outputs": [
    {
     "name": "stderr",
     "output_type": "stream",
     "text": [
      "C:\\Users\\HP'\\AppData\\Local\\Temp\\ipykernel_1560\\982415016.py:1: UserWarning: pandas only supports SQLAlchemy connectable (engine/connection) or database string URI or sqlite3 DBAPI2 connection. Other DBAPI2 objects are not tested. Please consider using SQLAlchemy.\n",
      "  df_dim_date = pd.read_sql_query(\"SELECT * FROM dim_date\", conn)\n"
     ]
    },
    {
     "data": {
      "text/html": [
       "<div>\n",
       "<style scoped>\n",
       "    .dataframe tbody tr th:only-of-type {\n",
       "        vertical-align: middle;\n",
       "    }\n",
       "\n",
       "    .dataframe tbody tr th {\n",
       "        vertical-align: top;\n",
       "    }\n",
       "\n",
       "    .dataframe thead th {\n",
       "        text-align: right;\n",
       "    }\n",
       "</style>\n",
       "<table border=\"1\" class=\"dataframe\">\n",
       "  <thead>\n",
       "    <tr style=\"text-align: right;\">\n",
       "      <th></th>\n",
       "      <th>date</th>\n",
       "      <th>mmm_yy</th>\n",
       "      <th>week_no</th>\n",
       "    </tr>\n",
       "  </thead>\n",
       "  <tbody>\n",
       "    <tr>\n",
       "      <th>0</th>\n",
       "      <td>01-Apr-22</td>\n",
       "      <td>01-Apr-22</td>\n",
       "      <td>W 14</td>\n",
       "    </tr>\n",
       "    <tr>\n",
       "      <th>1</th>\n",
       "      <td>03-Apr-22</td>\n",
       "      <td>01-Apr-22</td>\n",
       "      <td>W 15</td>\n",
       "    </tr>\n",
       "    <tr>\n",
       "      <th>2</th>\n",
       "      <td>04-Apr-22</td>\n",
       "      <td>01-Apr-22</td>\n",
       "      <td>W 15</td>\n",
       "    </tr>\n",
       "    <tr>\n",
       "      <th>3</th>\n",
       "      <td>05-Apr-22</td>\n",
       "      <td>01-Apr-22</td>\n",
       "      <td>W 15</td>\n",
       "    </tr>\n",
       "    <tr>\n",
       "      <th>4</th>\n",
       "      <td>06-Apr-22</td>\n",
       "      <td>01-Apr-22</td>\n",
       "      <td>W 15</td>\n",
       "    </tr>\n",
       "  </tbody>\n",
       "</table>\n",
       "</div>"
      ],
      "text/plain": [
       "        date     mmm_yy week_no\n",
       "0  01-Apr-22  01-Apr-22    W 14\n",
       "1  03-Apr-22  01-Apr-22    W 15\n",
       "2  04-Apr-22  01-Apr-22    W 15\n",
       "3  05-Apr-22  01-Apr-22    W 15\n",
       "4  06-Apr-22  01-Apr-22    W 15"
      ]
     },
     "execution_count": 5,
     "metadata": {},
     "output_type": "execute_result"
    }
   ],
   "source": [
    "df_dim_date = pd.read_sql_query(\"SELECT * FROM dim_date\", conn)\n",
    "df_dim_date.head()"
   ]
  },
  {
   "cell_type": "code",
   "execution_count": 6,
   "metadata": {},
   "outputs": [
    {
     "name": "stdout",
     "output_type": "stream",
     "text": [
      "<class 'pandas.core.frame.DataFrame'>\n",
      "RangeIndex: 183 entries, 0 to 182\n",
      "Data columns (total 3 columns):\n",
      " #   Column   Non-Null Count  Dtype \n",
      "---  ------   --------------  ----- \n",
      " 0   date     183 non-null    object\n",
      " 1   mmm_yy   183 non-null    object\n",
      " 2   week_no  183 non-null    object\n",
      "dtypes: object(3)\n",
      "memory usage: 4.4+ KB\n"
     ]
    }
   ],
   "source": [
    "df_dim_date.info()"
   ]
  },
  {
   "cell_type": "code",
   "execution_count": 7,
   "metadata": {},
   "outputs": [
    {
     "name": "stderr",
     "output_type": "stream",
     "text": [
      "C:\\Users\\HP'\\AppData\\Local\\Temp\\ipykernel_1560\\2638168915.py:1: UserWarning: Could not infer format, so each element will be parsed individually, falling back to `dateutil`. To ensure parsing is consistent and as-expected, please specify a format.\n",
      "  df_dim_date[[\"date\",\"mmm_yy\"]]=df_dim_date[[\"date\",\"mmm_yy\"]].apply(pd.to_datetime)\n",
      "C:\\Users\\HP'\\AppData\\Local\\Temp\\ipykernel_1560\\2638168915.py:1: UserWarning: Could not infer format, so each element will be parsed individually, falling back to `dateutil`. To ensure parsing is consistent and as-expected, please specify a format.\n",
      "  df_dim_date[[\"date\",\"mmm_yy\"]]=df_dim_date[[\"date\",\"mmm_yy\"]].apply(pd.to_datetime)\n"
     ]
    }
   ],
   "source": [
    "df_dim_date[[\"date\",\"mmm_yy\"]]=df_dim_date[[\"date\",\"mmm_yy\"]].apply(pd.to_datetime)"
   ]
  },
  {
   "cell_type": "code",
   "execution_count": 8,
   "metadata": {},
   "outputs": [
    {
     "name": "stdout",
     "output_type": "stream",
     "text": [
      "<class 'pandas.core.frame.DataFrame'>\n",
      "RangeIndex: 183 entries, 0 to 182\n",
      "Data columns (total 3 columns):\n",
      " #   Column   Non-Null Count  Dtype         \n",
      "---  ------   --------------  -----         \n",
      " 0   date     183 non-null    datetime64[ns]\n",
      " 1   mmm_yy   183 non-null    datetime64[ns]\n",
      " 2   week_no  183 non-null    object        \n",
      "dtypes: datetime64[ns](2), object(1)\n",
      "memory usage: 4.4+ KB\n"
     ]
    }
   ],
   "source": [
    "df_dim_date.info()"
   ]
  },
  {
   "cell_type": "code",
   "execution_count": 9,
   "metadata": {},
   "outputs": [
    {
     "name": "stderr",
     "output_type": "stream",
     "text": [
      "C:\\Users\\HP'\\AppData\\Local\\Temp\\ipykernel_1560\\23670484.py:1: UserWarning: pandas only supports SQLAlchemy connectable (engine/connection) or database string URI or sqlite3 DBAPI2 connection. Other DBAPI2 objects are not tested. Please consider using SQLAlchemy.\n",
      "  df_dim_products = pd.read_sql_query(\"SELECT * FROM dim_products\", conn)\n"
     ]
    },
    {
     "data": {
      "text/html": [
       "<div>\n",
       "<style scoped>\n",
       "    .dataframe tbody tr th:only-of-type {\n",
       "        vertical-align: middle;\n",
       "    }\n",
       "\n",
       "    .dataframe tbody tr th {\n",
       "        vertical-align: top;\n",
       "    }\n",
       "\n",
       "    .dataframe thead th {\n",
       "        text-align: right;\n",
       "    }\n",
       "</style>\n",
       "<table border=\"1\" class=\"dataframe\">\n",
       "  <thead>\n",
       "    <tr style=\"text-align: right;\">\n",
       "      <th></th>\n",
       "      <th>product_name</th>\n",
       "      <th>product_id</th>\n",
       "      <th>category</th>\n",
       "    </tr>\n",
       "  </thead>\n",
       "  <tbody>\n",
       "    <tr>\n",
       "      <th>0</th>\n",
       "      <td>AM Milk 500</td>\n",
       "      <td>25891101</td>\n",
       "      <td>Dairy</td>\n",
       "    </tr>\n",
       "    <tr>\n",
       "      <th>1</th>\n",
       "      <td>AM Milk 250</td>\n",
       "      <td>25891102</td>\n",
       "      <td>Dairy</td>\n",
       "    </tr>\n",
       "    <tr>\n",
       "      <th>2</th>\n",
       "      <td>AM Milk 100</td>\n",
       "      <td>25891103</td>\n",
       "      <td>Dairy</td>\n",
       "    </tr>\n",
       "    <tr>\n",
       "      <th>3</th>\n",
       "      <td>AM Butter 100</td>\n",
       "      <td>25891201</td>\n",
       "      <td>Dairy</td>\n",
       "    </tr>\n",
       "    <tr>\n",
       "      <th>4</th>\n",
       "      <td>AM Butter 250</td>\n",
       "      <td>25891202</td>\n",
       "      <td>Dairy</td>\n",
       "    </tr>\n",
       "  </tbody>\n",
       "</table>\n",
       "</div>"
      ],
      "text/plain": [
       "    product_name  product_id category\n",
       "0    AM Milk 500    25891101    Dairy\n",
       "1    AM Milk 250    25891102    Dairy\n",
       "2    AM Milk 100    25891103    Dairy\n",
       "3  AM Butter 100    25891201    Dairy\n",
       "4  AM Butter 250    25891202    Dairy"
      ]
     },
     "execution_count": 9,
     "metadata": {},
     "output_type": "execute_result"
    }
   ],
   "source": [
    "df_dim_products = pd.read_sql_query(\"SELECT * FROM dim_products\", conn)\n",
    "df_dim_products.head()"
   ]
  },
  {
   "cell_type": "code",
   "execution_count": 10,
   "metadata": {},
   "outputs": [
    {
     "name": "stdout",
     "output_type": "stream",
     "text": [
      "<class 'pandas.core.frame.DataFrame'>\n",
      "RangeIndex: 18 entries, 0 to 17\n",
      "Data columns (total 3 columns):\n",
      " #   Column        Non-Null Count  Dtype \n",
      "---  ------        --------------  ----- \n",
      " 0   product_name  18 non-null     object\n",
      " 1   product_id    18 non-null     int64 \n",
      " 2   category      18 non-null     object\n",
      "dtypes: int64(1), object(2)\n",
      "memory usage: 564.0+ bytes\n"
     ]
    }
   ],
   "source": [
    "df_dim_products.info()"
   ]
  },
  {
   "cell_type": "code",
   "execution_count": 11,
   "metadata": {},
   "outputs": [
    {
     "name": "stderr",
     "output_type": "stream",
     "text": [
      "C:\\Users\\HP'\\AppData\\Local\\Temp\\ipykernel_1560\\3988268292.py:1: UserWarning: pandas only supports SQLAlchemy connectable (engine/connection) or database string URI or sqlite3 DBAPI2 connection. Other DBAPI2 objects are not tested. Please consider using SQLAlchemy.\n",
      "  df_dim_targets_orders = pd.read_sql_query(\"SELECT * FROM dim_targets_orders\", conn)\n"
     ]
    },
    {
     "data": {
      "text/html": [
       "<div>\n",
       "<style scoped>\n",
       "    .dataframe tbody tr th:only-of-type {\n",
       "        vertical-align: middle;\n",
       "    }\n",
       "\n",
       "    .dataframe tbody tr th {\n",
       "        vertical-align: top;\n",
       "    }\n",
       "\n",
       "    .dataframe thead th {\n",
       "        text-align: right;\n",
       "    }\n",
       "</style>\n",
       "<table border=\"1\" class=\"dataframe\">\n",
       "  <thead>\n",
       "    <tr style=\"text-align: right;\">\n",
       "      <th></th>\n",
       "      <th>customer_id</th>\n",
       "      <th>ontime_target%</th>\n",
       "      <th>infull_target%</th>\n",
       "      <th>otif_target%</th>\n",
       "    </tr>\n",
       "  </thead>\n",
       "  <tbody>\n",
       "    <tr>\n",
       "      <th>0</th>\n",
       "      <td>789201</td>\n",
       "      <td>87</td>\n",
       "      <td>81</td>\n",
       "      <td>70</td>\n",
       "    </tr>\n",
       "    <tr>\n",
       "      <th>1</th>\n",
       "      <td>789202</td>\n",
       "      <td>85</td>\n",
       "      <td>81</td>\n",
       "      <td>69</td>\n",
       "    </tr>\n",
       "    <tr>\n",
       "      <th>2</th>\n",
       "      <td>789203</td>\n",
       "      <td>92</td>\n",
       "      <td>76</td>\n",
       "      <td>70</td>\n",
       "    </tr>\n",
       "    <tr>\n",
       "      <th>3</th>\n",
       "      <td>789301</td>\n",
       "      <td>89</td>\n",
       "      <td>78</td>\n",
       "      <td>69</td>\n",
       "    </tr>\n",
       "    <tr>\n",
       "      <th>4</th>\n",
       "      <td>789303</td>\n",
       "      <td>88</td>\n",
       "      <td>78</td>\n",
       "      <td>69</td>\n",
       "    </tr>\n",
       "  </tbody>\n",
       "</table>\n",
       "</div>"
      ],
      "text/plain": [
       "   customer_id  ontime_target%  infull_target%  otif_target%\n",
       "0       789201              87              81            70\n",
       "1       789202              85              81            69\n",
       "2       789203              92              76            70\n",
       "3       789301              89              78            69\n",
       "4       789303              88              78            69"
      ]
     },
     "execution_count": 11,
     "metadata": {},
     "output_type": "execute_result"
    }
   ],
   "source": [
    "df_dim_targets_orders = pd.read_sql_query(\"SELECT * FROM dim_targets_orders\", conn)\n",
    "df_dim_targets_orders.head()"
   ]
  },
  {
   "cell_type": "code",
   "execution_count": 12,
   "metadata": {},
   "outputs": [
    {
     "name": "stdout",
     "output_type": "stream",
     "text": [
      "<class 'pandas.core.frame.DataFrame'>\n",
      "RangeIndex: 35 entries, 0 to 34\n",
      "Data columns (total 4 columns):\n",
      " #   Column          Non-Null Count  Dtype\n",
      "---  ------          --------------  -----\n",
      " 0   customer_id     35 non-null     int64\n",
      " 1   ontime_target%  35 non-null     int64\n",
      " 2   infull_target%  35 non-null     int64\n",
      " 3   otif_target%    35 non-null     int64\n",
      "dtypes: int64(4)\n",
      "memory usage: 1.2 KB\n"
     ]
    }
   ],
   "source": [
    "df_dim_targets_orders.info()"
   ]
  },
  {
   "cell_type": "code",
   "execution_count": 13,
   "metadata": {},
   "outputs": [
    {
     "name": "stderr",
     "output_type": "stream",
     "text": [
      "C:\\Users\\HP'\\AppData\\Local\\Temp\\ipykernel_1560\\184214461.py:1: UserWarning: pandas only supports SQLAlchemy connectable (engine/connection) or database string URI or sqlite3 DBAPI2 connection. Other DBAPI2 objects are not tested. Please consider using SQLAlchemy.\n",
      "  df_fact_order_lines = pd.read_sql_query(\"SELECT * FROM fact_order_lines\", conn)\n"
     ]
    },
    {
     "data": {
      "text/html": [
       "<div>\n",
       "<style scoped>\n",
       "    .dataframe tbody tr th:only-of-type {\n",
       "        vertical-align: middle;\n",
       "    }\n",
       "\n",
       "    .dataframe tbody tr th {\n",
       "        vertical-align: top;\n",
       "    }\n",
       "\n",
       "    .dataframe thead th {\n",
       "        text-align: right;\n",
       "    }\n",
       "</style>\n",
       "<table border=\"1\" class=\"dataframe\">\n",
       "  <thead>\n",
       "    <tr style=\"text-align: right;\">\n",
       "      <th></th>\n",
       "      <th>order_id</th>\n",
       "      <th>order_placement_date</th>\n",
       "      <th>customer_id</th>\n",
       "      <th>product_id</th>\n",
       "      <th>order_qty</th>\n",
       "      <th>agreed_delivery_date</th>\n",
       "      <th>actual_delivery_date</th>\n",
       "      <th>delivery_qty</th>\n",
       "      <th>In Full</th>\n",
       "      <th>On Time</th>\n",
       "      <th>On Time In Full</th>\n",
       "    </tr>\n",
       "  </thead>\n",
       "  <tbody>\n",
       "    <tr>\n",
       "      <th>0</th>\n",
       "      <td>FMR34203601</td>\n",
       "      <td>Tuesday, March 1, 2022</td>\n",
       "      <td>789203</td>\n",
       "      <td>25891601</td>\n",
       "      <td>110</td>\n",
       "      <td>Friday, March 4, 2022</td>\n",
       "      <td>Friday, March 4, 2022</td>\n",
       "      <td>110</td>\n",
       "      <td>1</td>\n",
       "      <td>1</td>\n",
       "      <td>1</td>\n",
       "    </tr>\n",
       "    <tr>\n",
       "      <th>1</th>\n",
       "      <td>FMR32320302</td>\n",
       "      <td>Tuesday, March 1, 2022</td>\n",
       "      <td>789320</td>\n",
       "      <td>25891203</td>\n",
       "      <td>347</td>\n",
       "      <td>Wednesday, March 2, 2022</td>\n",
       "      <td>Wednesday, March 2, 2022</td>\n",
       "      <td>347</td>\n",
       "      <td>1</td>\n",
       "      <td>1</td>\n",
       "      <td>1</td>\n",
       "    </tr>\n",
       "    <tr>\n",
       "      <th>2</th>\n",
       "      <td>FMR33320501</td>\n",
       "      <td>Tuesday, March 1, 2022</td>\n",
       "      <td>789320</td>\n",
       "      <td>25891203</td>\n",
       "      <td>187</td>\n",
       "      <td>Thursday, March 3, 2022</td>\n",
       "      <td>Thursday, March 3, 2022</td>\n",
       "      <td>150</td>\n",
       "      <td>0</td>\n",
       "      <td>1</td>\n",
       "      <td>0</td>\n",
       "    </tr>\n",
       "    <tr>\n",
       "      <th>3</th>\n",
       "      <td>FMR34220601</td>\n",
       "      <td>Tuesday, March 1, 2022</td>\n",
       "      <td>789220</td>\n",
       "      <td>25891203</td>\n",
       "      <td>235</td>\n",
       "      <td>Friday, March 4, 2022</td>\n",
       "      <td>Friday, March 4, 2022</td>\n",
       "      <td>235</td>\n",
       "      <td>1</td>\n",
       "      <td>1</td>\n",
       "      <td>1</td>\n",
       "    </tr>\n",
       "    <tr>\n",
       "      <th>4</th>\n",
       "      <td>FMR33703603</td>\n",
       "      <td>Tuesday, March 1, 2022</td>\n",
       "      <td>789703</td>\n",
       "      <td>25891203</td>\n",
       "      <td>176</td>\n",
       "      <td>Thursday, March 3, 2022</td>\n",
       "      <td>Thursday, March 3, 2022</td>\n",
       "      <td>176</td>\n",
       "      <td>1</td>\n",
       "      <td>1</td>\n",
       "      <td>1</td>\n",
       "    </tr>\n",
       "  </tbody>\n",
       "</table>\n",
       "</div>"
      ],
      "text/plain": [
       "      order_id    order_placement_date  customer_id  product_id  order_qty  \\\n",
       "0  FMR34203601  Tuesday, March 1, 2022       789203    25891601        110   \n",
       "1  FMR32320302  Tuesday, March 1, 2022       789320    25891203        347   \n",
       "2  FMR33320501  Tuesday, March 1, 2022       789320    25891203        187   \n",
       "3  FMR34220601  Tuesday, March 1, 2022       789220    25891203        235   \n",
       "4  FMR33703603  Tuesday, March 1, 2022       789703    25891203        176   \n",
       "\n",
       "       agreed_delivery_date      actual_delivery_date  delivery_qty  In Full  \\\n",
       "0     Friday, March 4, 2022     Friday, March 4, 2022           110        1   \n",
       "1  Wednesday, March 2, 2022  Wednesday, March 2, 2022           347        1   \n",
       "2   Thursday, March 3, 2022   Thursday, March 3, 2022           150        0   \n",
       "3     Friday, March 4, 2022     Friday, March 4, 2022           235        1   \n",
       "4   Thursday, March 3, 2022   Thursday, March 3, 2022           176        1   \n",
       "\n",
       "   On Time  On Time In Full  \n",
       "0        1                1  \n",
       "1        1                1  \n",
       "2        1                0  \n",
       "3        1                1  \n",
       "4        1                1  "
      ]
     },
     "execution_count": 13,
     "metadata": {},
     "output_type": "execute_result"
    }
   ],
   "source": [
    "df_fact_order_lines = pd.read_sql_query(\"SELECT * FROM fact_order_lines\", conn)\n",
    "df_fact_order_lines.head()"
   ]
  },
  {
   "cell_type": "code",
   "execution_count": 14,
   "metadata": {},
   "outputs": [],
   "source": [
    "df_fact_order_lines[[\"order_placement_date\", \"actual_delivery_date\"]] = df_fact_order_lines[[\"order_placement_date\", \"actual_delivery_date\"]].apply(pd.to_datetime)"
   ]
  },
  {
   "cell_type": "code",
   "execution_count": 15,
   "metadata": {},
   "outputs": [
    {
     "name": "stdout",
     "output_type": "stream",
     "text": [
      "<class 'pandas.core.frame.DataFrame'>\n",
      "RangeIndex: 57096 entries, 0 to 57095\n",
      "Data columns (total 11 columns):\n",
      " #   Column                Non-Null Count  Dtype         \n",
      "---  ------                --------------  -----         \n",
      " 0   order_id              57096 non-null  object        \n",
      " 1   order_placement_date  57096 non-null  datetime64[ns]\n",
      " 2   customer_id           57096 non-null  int64         \n",
      " 3   product_id            57096 non-null  int64         \n",
      " 4   order_qty             57096 non-null  int64         \n",
      " 5   agreed_delivery_date  57096 non-null  object        \n",
      " 6   actual_delivery_date  57096 non-null  datetime64[ns]\n",
      " 7   delivery_qty          57096 non-null  int64         \n",
      " 8   In Full               57096 non-null  int64         \n",
      " 9   On Time               57096 non-null  int64         \n",
      " 10  On Time In Full       57096 non-null  int64         \n",
      "dtypes: datetime64[ns](2), int64(7), object(2)\n",
      "memory usage: 4.8+ MB\n"
     ]
    }
   ],
   "source": [
    "df_fact_order_lines.info()"
   ]
  },
  {
   "cell_type": "code",
   "execution_count": 16,
   "metadata": {},
   "outputs": [
    {
     "data": {
      "text/plain": [
       "order_id                0\n",
       "order_placement_date    0\n",
       "customer_id             0\n",
       "product_id              0\n",
       "order_qty               0\n",
       "agreed_delivery_date    0\n",
       "actual_delivery_date    0\n",
       "delivery_qty            0\n",
       "In Full                 0\n",
       "On Time                 0\n",
       "On Time In Full         0\n",
       "dtype: int64"
      ]
     },
     "execution_count": 16,
     "metadata": {},
     "output_type": "execute_result"
    }
   ],
   "source": [
    "df_fact_order_lines.isnull().sum()"
   ]
  },
  {
   "cell_type": "code",
   "execution_count": 17,
   "metadata": {},
   "outputs": [
    {
     "data": {
      "text/html": [
       "<div>\n",
       "<style scoped>\n",
       "    .dataframe tbody tr th:only-of-type {\n",
       "        vertical-align: middle;\n",
       "    }\n",
       "\n",
       "    .dataframe tbody tr th {\n",
       "        vertical-align: top;\n",
       "    }\n",
       "\n",
       "    .dataframe thead th {\n",
       "        text-align: right;\n",
       "    }\n",
       "</style>\n",
       "<table border=\"1\" class=\"dataframe\">\n",
       "  <thead>\n",
       "    <tr style=\"text-align: right;\">\n",
       "      <th></th>\n",
       "      <th>order_id</th>\n",
       "      <th>order_placement_date</th>\n",
       "      <th>customer_id</th>\n",
       "      <th>product_id</th>\n",
       "      <th>order_qty</th>\n",
       "      <th>agreed_delivery_date</th>\n",
       "      <th>actual_delivery_date</th>\n",
       "      <th>delivery_qty</th>\n",
       "      <th>In Full</th>\n",
       "      <th>On Time</th>\n",
       "      <th>On Time In Full</th>\n",
       "    </tr>\n",
       "  </thead>\n",
       "  <tbody>\n",
       "    <tr>\n",
       "      <th>0</th>\n",
       "      <td>FMR34203601</td>\n",
       "      <td>2022-03-01</td>\n",
       "      <td>789203</td>\n",
       "      <td>25891601</td>\n",
       "      <td>110</td>\n",
       "      <td>Friday, March 4, 2022</td>\n",
       "      <td>2022-03-04</td>\n",
       "      <td>110</td>\n",
       "      <td>1</td>\n",
       "      <td>1</td>\n",
       "      <td>1</td>\n",
       "    </tr>\n",
       "    <tr>\n",
       "      <th>1</th>\n",
       "      <td>FMR32320302</td>\n",
       "      <td>2022-03-01</td>\n",
       "      <td>789320</td>\n",
       "      <td>25891203</td>\n",
       "      <td>347</td>\n",
       "      <td>Wednesday, March 2, 2022</td>\n",
       "      <td>2022-03-02</td>\n",
       "      <td>347</td>\n",
       "      <td>1</td>\n",
       "      <td>1</td>\n",
       "      <td>1</td>\n",
       "    </tr>\n",
       "    <tr>\n",
       "      <th>2</th>\n",
       "      <td>FMR33320501</td>\n",
       "      <td>2022-03-01</td>\n",
       "      <td>789320</td>\n",
       "      <td>25891203</td>\n",
       "      <td>187</td>\n",
       "      <td>Thursday, March 3, 2022</td>\n",
       "      <td>2022-03-03</td>\n",
       "      <td>150</td>\n",
       "      <td>0</td>\n",
       "      <td>1</td>\n",
       "      <td>0</td>\n",
       "    </tr>\n",
       "    <tr>\n",
       "      <th>3</th>\n",
       "      <td>FMR34220601</td>\n",
       "      <td>2022-03-01</td>\n",
       "      <td>789220</td>\n",
       "      <td>25891203</td>\n",
       "      <td>235</td>\n",
       "      <td>Friday, March 4, 2022</td>\n",
       "      <td>2022-03-04</td>\n",
       "      <td>235</td>\n",
       "      <td>1</td>\n",
       "      <td>1</td>\n",
       "      <td>1</td>\n",
       "    </tr>\n",
       "    <tr>\n",
       "      <th>4</th>\n",
       "      <td>FMR33703603</td>\n",
       "      <td>2022-03-01</td>\n",
       "      <td>789703</td>\n",
       "      <td>25891203</td>\n",
       "      <td>176</td>\n",
       "      <td>Thursday, March 3, 2022</td>\n",
       "      <td>2022-03-03</td>\n",
       "      <td>176</td>\n",
       "      <td>1</td>\n",
       "      <td>1</td>\n",
       "      <td>1</td>\n",
       "    </tr>\n",
       "  </tbody>\n",
       "</table>\n",
       "</div>"
      ],
      "text/plain": [
       "      order_id order_placement_date  customer_id  product_id  order_qty  \\\n",
       "0  FMR34203601           2022-03-01       789203    25891601        110   \n",
       "1  FMR32320302           2022-03-01       789320    25891203        347   \n",
       "2  FMR33320501           2022-03-01       789320    25891203        187   \n",
       "3  FMR34220601           2022-03-01       789220    25891203        235   \n",
       "4  FMR33703603           2022-03-01       789703    25891203        176   \n",
       "\n",
       "       agreed_delivery_date actual_delivery_date  delivery_qty  In Full  \\\n",
       "0     Friday, March 4, 2022           2022-03-04           110        1   \n",
       "1  Wednesday, March 2, 2022           2022-03-02           347        1   \n",
       "2   Thursday, March 3, 2022           2022-03-03           150        0   \n",
       "3     Friday, March 4, 2022           2022-03-04           235        1   \n",
       "4   Thursday, March 3, 2022           2022-03-03           176        1   \n",
       "\n",
       "   On Time  On Time In Full  \n",
       "0        1                1  \n",
       "1        1                1  \n",
       "2        1                0  \n",
       "3        1                1  \n",
       "4        1                1  "
      ]
     },
     "execution_count": 17,
     "metadata": {},
     "output_type": "execute_result"
    }
   ],
   "source": [
    "df_fact_order_lines.head()"
   ]
  },
  {
   "cell_type": "code",
   "execution_count": 18,
   "metadata": {},
   "outputs": [
    {
     "data": {
      "text/plain": [
       "order_id                0\n",
       "order_placement_date    0\n",
       "customer_id             0\n",
       "product_id              0\n",
       "order_qty               0\n",
       "agreed_delivery_date    0\n",
       "actual_delivery_date    0\n",
       "delivery_qty            0\n",
       "In Full                 0\n",
       "On Time                 0\n",
       "On Time In Full         0\n",
       "dtype: int64"
      ]
     },
     "execution_count": 18,
     "metadata": {},
     "output_type": "execute_result"
    }
   ],
   "source": [
    "df_fact_order_lines.isnull().sum()"
   ]
  },
  {
   "cell_type": "code",
   "execution_count": 19,
   "metadata": {},
   "outputs": [],
   "source": [
    "df_fact_order_lines = df_fact_order_lines.merge(df_dim_targets_orders, on=\"customer_id\")"
   ]
  },
  {
   "cell_type": "code",
   "execution_count": 20,
   "metadata": {},
   "outputs": [],
   "source": [
    "df_fact_order_lines = df_fact_order_lines.merge(df_dim_products, on=\"product_id\")"
   ]
  },
  {
   "cell_type": "code",
   "execution_count": 21,
   "metadata": {},
   "outputs": [
    {
     "data": {
      "text/html": [
       "<div>\n",
       "<style scoped>\n",
       "    .dataframe tbody tr th:only-of-type {\n",
       "        vertical-align: middle;\n",
       "    }\n",
       "\n",
       "    .dataframe tbody tr th {\n",
       "        vertical-align: top;\n",
       "    }\n",
       "\n",
       "    .dataframe thead th {\n",
       "        text-align: right;\n",
       "    }\n",
       "</style>\n",
       "<table border=\"1\" class=\"dataframe\">\n",
       "  <thead>\n",
       "    <tr style=\"text-align: right;\">\n",
       "      <th></th>\n",
       "      <th>order_id</th>\n",
       "      <th>order_placement_date</th>\n",
       "      <th>customer_id</th>\n",
       "      <th>product_id</th>\n",
       "      <th>order_qty</th>\n",
       "      <th>agreed_delivery_date</th>\n",
       "      <th>actual_delivery_date</th>\n",
       "      <th>delivery_qty</th>\n",
       "      <th>In Full</th>\n",
       "      <th>On Time</th>\n",
       "      <th>On Time In Full</th>\n",
       "      <th>ontime_target%</th>\n",
       "      <th>infull_target%</th>\n",
       "      <th>otif_target%</th>\n",
       "      <th>product_name</th>\n",
       "      <th>category</th>\n",
       "    </tr>\n",
       "  </thead>\n",
       "  <tbody>\n",
       "    <tr>\n",
       "      <th>0</th>\n",
       "      <td>FMR34203601</td>\n",
       "      <td>2022-03-01</td>\n",
       "      <td>789203</td>\n",
       "      <td>25891601</td>\n",
       "      <td>110</td>\n",
       "      <td>Friday, March 4, 2022</td>\n",
       "      <td>2022-03-04</td>\n",
       "      <td>110</td>\n",
       "      <td>1</td>\n",
       "      <td>1</td>\n",
       "      <td>1</td>\n",
       "      <td>92</td>\n",
       "      <td>76</td>\n",
       "      <td>70</td>\n",
       "      <td>AM Tea 500</td>\n",
       "      <td>beverages</td>\n",
       "    </tr>\n",
       "    <tr>\n",
       "      <th>1</th>\n",
       "      <td>FMR35203601</td>\n",
       "      <td>2022-03-02</td>\n",
       "      <td>789203</td>\n",
       "      <td>25891601</td>\n",
       "      <td>55</td>\n",
       "      <td>Saturday, March 5, 2022</td>\n",
       "      <td>2022-03-05</td>\n",
       "      <td>55</td>\n",
       "      <td>1</td>\n",
       "      <td>1</td>\n",
       "      <td>1</td>\n",
       "      <td>92</td>\n",
       "      <td>76</td>\n",
       "      <td>70</td>\n",
       "      <td>AM Tea 500</td>\n",
       "      <td>beverages</td>\n",
       "    </tr>\n",
       "    <tr>\n",
       "      <th>2</th>\n",
       "      <td>FMR39203601</td>\n",
       "      <td>2022-03-06</td>\n",
       "      <td>789203</td>\n",
       "      <td>25891601</td>\n",
       "      <td>102</td>\n",
       "      <td>Wednesday, March 9, 2022</td>\n",
       "      <td>2022-03-09</td>\n",
       "      <td>102</td>\n",
       "      <td>1</td>\n",
       "      <td>1</td>\n",
       "      <td>1</td>\n",
       "      <td>92</td>\n",
       "      <td>76</td>\n",
       "      <td>70</td>\n",
       "      <td>AM Tea 500</td>\n",
       "      <td>beverages</td>\n",
       "    </tr>\n",
       "    <tr>\n",
       "      <th>3</th>\n",
       "      <td>FMR310203601</td>\n",
       "      <td>2022-03-09</td>\n",
       "      <td>789203</td>\n",
       "      <td>25891601</td>\n",
       "      <td>189</td>\n",
       "      <td>Thursday, March 10, 2022</td>\n",
       "      <td>2022-03-10</td>\n",
       "      <td>180</td>\n",
       "      <td>0</td>\n",
       "      <td>1</td>\n",
       "      <td>0</td>\n",
       "      <td>92</td>\n",
       "      <td>76</td>\n",
       "      <td>70</td>\n",
       "      <td>AM Tea 500</td>\n",
       "      <td>beverages</td>\n",
       "    </tr>\n",
       "    <tr>\n",
       "      <th>4</th>\n",
       "      <td>FMR311203603</td>\n",
       "      <td>2022-03-10</td>\n",
       "      <td>789203</td>\n",
       "      <td>25891601</td>\n",
       "      <td>70</td>\n",
       "      <td>Friday, March 11, 2022</td>\n",
       "      <td>2022-03-11</td>\n",
       "      <td>70</td>\n",
       "      <td>1</td>\n",
       "      <td>1</td>\n",
       "      <td>1</td>\n",
       "      <td>92</td>\n",
       "      <td>76</td>\n",
       "      <td>70</td>\n",
       "      <td>AM Tea 500</td>\n",
       "      <td>beverages</td>\n",
       "    </tr>\n",
       "  </tbody>\n",
       "</table>\n",
       "</div>"
      ],
      "text/plain": [
       "       order_id order_placement_date  customer_id  product_id  order_qty  \\\n",
       "0   FMR34203601           2022-03-01       789203    25891601        110   \n",
       "1   FMR35203601           2022-03-02       789203    25891601         55   \n",
       "2   FMR39203601           2022-03-06       789203    25891601        102   \n",
       "3  FMR310203601           2022-03-09       789203    25891601        189   \n",
       "4  FMR311203603           2022-03-10       789203    25891601         70   \n",
       "\n",
       "       agreed_delivery_date actual_delivery_date  delivery_qty  In Full  \\\n",
       "0     Friday, March 4, 2022           2022-03-04           110        1   \n",
       "1   Saturday, March 5, 2022           2022-03-05            55        1   \n",
       "2  Wednesday, March 9, 2022           2022-03-09           102        1   \n",
       "3  Thursday, March 10, 2022           2022-03-10           180        0   \n",
       "4    Friday, March 11, 2022           2022-03-11            70        1   \n",
       "\n",
       "   On Time  On Time In Full  ontime_target%  infull_target%  otif_target%  \\\n",
       "0        1                1              92              76            70   \n",
       "1        1                1              92              76            70   \n",
       "2        1                1              92              76            70   \n",
       "3        1                0              92              76            70   \n",
       "4        1                1              92              76            70   \n",
       "\n",
       "  product_name   category  \n",
       "0   AM Tea 500  beverages  \n",
       "1   AM Tea 500  beverages  \n",
       "2   AM Tea 500  beverages  \n",
       "3   AM Tea 500  beverages  \n",
       "4   AM Tea 500  beverages  "
      ]
     },
     "execution_count": 21,
     "metadata": {},
     "output_type": "execute_result"
    }
   ],
   "source": [
    "df_fact_order_lines.head()"
   ]
  },
  {
   "cell_type": "code",
   "execution_count": 22,
   "metadata": {},
   "outputs": [],
   "source": [
    "df_fact_order_lines = df_fact_order_lines.merge(df_dim_date, left_on=\"order_placement_date\", right_on=\"date\")"
   ]
  },
  {
   "cell_type": "code",
   "execution_count": 23,
   "metadata": {},
   "outputs": [
    {
     "data": {
      "text/html": [
       "<div>\n",
       "<style scoped>\n",
       "    .dataframe tbody tr th:only-of-type {\n",
       "        vertical-align: middle;\n",
       "    }\n",
       "\n",
       "    .dataframe tbody tr th {\n",
       "        vertical-align: top;\n",
       "    }\n",
       "\n",
       "    .dataframe thead th {\n",
       "        text-align: right;\n",
       "    }\n",
       "</style>\n",
       "<table border=\"1\" class=\"dataframe\">\n",
       "  <thead>\n",
       "    <tr style=\"text-align: right;\">\n",
       "      <th></th>\n",
       "      <th>order_id</th>\n",
       "      <th>order_placement_date</th>\n",
       "      <th>customer_id</th>\n",
       "      <th>product_id</th>\n",
       "      <th>order_qty</th>\n",
       "      <th>agreed_delivery_date</th>\n",
       "      <th>actual_delivery_date</th>\n",
       "      <th>delivery_qty</th>\n",
       "      <th>In Full</th>\n",
       "      <th>On Time</th>\n",
       "      <th>On Time In Full</th>\n",
       "      <th>ontime_target%</th>\n",
       "      <th>infull_target%</th>\n",
       "      <th>otif_target%</th>\n",
       "      <th>product_name</th>\n",
       "      <th>category</th>\n",
       "      <th>date</th>\n",
       "      <th>mmm_yy</th>\n",
       "      <th>week_no</th>\n",
       "    </tr>\n",
       "  </thead>\n",
       "  <tbody>\n",
       "    <tr>\n",
       "      <th>0</th>\n",
       "      <td>FMR34203601</td>\n",
       "      <td>2022-03-01</td>\n",
       "      <td>789203</td>\n",
       "      <td>25891601</td>\n",
       "      <td>110</td>\n",
       "      <td>Friday, March 4, 2022</td>\n",
       "      <td>2022-03-04</td>\n",
       "      <td>110</td>\n",
       "      <td>1</td>\n",
       "      <td>1</td>\n",
       "      <td>1</td>\n",
       "      <td>92</td>\n",
       "      <td>76</td>\n",
       "      <td>70</td>\n",
       "      <td>AM Tea 500</td>\n",
       "      <td>beverages</td>\n",
       "      <td>2022-03-01</td>\n",
       "      <td>2022-03-01</td>\n",
       "      <td>W 10</td>\n",
       "    </tr>\n",
       "    <tr>\n",
       "      <th>1</th>\n",
       "      <td>FMR34220601</td>\n",
       "      <td>2022-03-01</td>\n",
       "      <td>789220</td>\n",
       "      <td>25891601</td>\n",
       "      <td>78</td>\n",
       "      <td>Friday, March 4, 2022</td>\n",
       "      <td>2022-03-04</td>\n",
       "      <td>78</td>\n",
       "      <td>1</td>\n",
       "      <td>1</td>\n",
       "      <td>1</td>\n",
       "      <td>91</td>\n",
       "      <td>76</td>\n",
       "      <td>69</td>\n",
       "      <td>AM Tea 500</td>\n",
       "      <td>beverages</td>\n",
       "      <td>2022-03-01</td>\n",
       "      <td>2022-03-01</td>\n",
       "      <td>W 10</td>\n",
       "    </tr>\n",
       "  </tbody>\n",
       "</table>\n",
       "</div>"
      ],
      "text/plain": [
       "      order_id order_placement_date  customer_id  product_id  order_qty  \\\n",
       "0  FMR34203601           2022-03-01       789203    25891601        110   \n",
       "1  FMR34220601           2022-03-01       789220    25891601         78   \n",
       "\n",
       "    agreed_delivery_date actual_delivery_date  delivery_qty  In Full  On Time  \\\n",
       "0  Friday, March 4, 2022           2022-03-04           110        1        1   \n",
       "1  Friday, March 4, 2022           2022-03-04            78        1        1   \n",
       "\n",
       "   On Time In Full  ontime_target%  infull_target%  otif_target% product_name  \\\n",
       "0                1              92              76            70   AM Tea 500   \n",
       "1                1              91              76            69   AM Tea 500   \n",
       "\n",
       "    category       date     mmm_yy week_no  \n",
       "0  beverages 2022-03-01 2022-03-01    W 10  \n",
       "1  beverages 2022-03-01 2022-03-01    W 10  "
      ]
     },
     "execution_count": 23,
     "metadata": {},
     "output_type": "execute_result"
    }
   ],
   "source": [
    "df_fact_order_lines.head(2)"
   ]
  },
  {
   "cell_type": "code",
   "execution_count": 24,
   "metadata": {},
   "outputs": [],
   "source": [
    "df_fact_order_lines = df_fact_order_lines.merge(df_dim_customer, on=\"customer_id\")"
   ]
  },
  {
   "cell_type": "code",
   "execution_count": 25,
   "metadata": {},
   "outputs": [],
   "source": [
    "df_fact_order_lines.head(2)\n",
    "pd.set_option(\"display.max_columns\", None)"
   ]
  },
  {
   "cell_type": "code",
   "execution_count": 26,
   "metadata": {},
   "outputs": [
    {
     "data": {
      "text/html": [
       "<div>\n",
       "<style scoped>\n",
       "    .dataframe tbody tr th:only-of-type {\n",
       "        vertical-align: middle;\n",
       "    }\n",
       "\n",
       "    .dataframe tbody tr th {\n",
       "        vertical-align: top;\n",
       "    }\n",
       "\n",
       "    .dataframe thead th {\n",
       "        text-align: right;\n",
       "    }\n",
       "</style>\n",
       "<table border=\"1\" class=\"dataframe\">\n",
       "  <thead>\n",
       "    <tr style=\"text-align: right;\">\n",
       "      <th></th>\n",
       "      <th>order_id</th>\n",
       "      <th>order_placement_date</th>\n",
       "      <th>customer_id</th>\n",
       "      <th>product_id</th>\n",
       "      <th>order_qty</th>\n",
       "      <th>agreed_delivery_date</th>\n",
       "      <th>actual_delivery_date</th>\n",
       "      <th>delivery_qty</th>\n",
       "      <th>In Full</th>\n",
       "      <th>On Time</th>\n",
       "      <th>On Time In Full</th>\n",
       "      <th>ontime_target%</th>\n",
       "      <th>infull_target%</th>\n",
       "      <th>otif_target%</th>\n",
       "      <th>product_name</th>\n",
       "      <th>category</th>\n",
       "      <th>date</th>\n",
       "      <th>mmm_yy</th>\n",
       "      <th>week_no</th>\n",
       "      <th>customer_name</th>\n",
       "      <th>city</th>\n",
       "    </tr>\n",
       "  </thead>\n",
       "  <tbody>\n",
       "    <tr>\n",
       "      <th>0</th>\n",
       "      <td>FMR34203601</td>\n",
       "      <td>2022-03-01</td>\n",
       "      <td>789203</td>\n",
       "      <td>25891601</td>\n",
       "      <td>110</td>\n",
       "      <td>Friday, March 4, 2022</td>\n",
       "      <td>2022-03-04</td>\n",
       "      <td>110</td>\n",
       "      <td>1</td>\n",
       "      <td>1</td>\n",
       "      <td>1</td>\n",
       "      <td>92</td>\n",
       "      <td>76</td>\n",
       "      <td>70</td>\n",
       "      <td>AM Tea 500</td>\n",
       "      <td>beverages</td>\n",
       "      <td>2022-03-01</td>\n",
       "      <td>2022-03-01</td>\n",
       "      <td>W 10</td>\n",
       "      <td>Rel Fresh</td>\n",
       "      <td>Vadodara</td>\n",
       "    </tr>\n",
       "    <tr>\n",
       "      <th>1</th>\n",
       "      <td>FMR34203601</td>\n",
       "      <td>2022-03-01</td>\n",
       "      <td>789203</td>\n",
       "      <td>25891301</td>\n",
       "      <td>100</td>\n",
       "      <td>Friday, March 4, 2022</td>\n",
       "      <td>2022-03-04</td>\n",
       "      <td>100</td>\n",
       "      <td>1</td>\n",
       "      <td>1</td>\n",
       "      <td>1</td>\n",
       "      <td>92</td>\n",
       "      <td>76</td>\n",
       "      <td>70</td>\n",
       "      <td>AM Ghee 250</td>\n",
       "      <td>Dairy</td>\n",
       "      <td>2022-03-01</td>\n",
       "      <td>2022-03-01</td>\n",
       "      <td>W 10</td>\n",
       "      <td>Rel Fresh</td>\n",
       "      <td>Vadodara</td>\n",
       "    </tr>\n",
       "  </tbody>\n",
       "</table>\n",
       "</div>"
      ],
      "text/plain": [
       "      order_id order_placement_date  customer_id  product_id  order_qty  \\\n",
       "0  FMR34203601           2022-03-01       789203    25891601        110   \n",
       "1  FMR34203601           2022-03-01       789203    25891301        100   \n",
       "\n",
       "    agreed_delivery_date actual_delivery_date  delivery_qty  In Full  On Time  \\\n",
       "0  Friday, March 4, 2022           2022-03-04           110        1        1   \n",
       "1  Friday, March 4, 2022           2022-03-04           100        1        1   \n",
       "\n",
       "   On Time In Full  ontime_target%  infull_target%  otif_target% product_name  \\\n",
       "0                1              92              76            70   AM Tea 500   \n",
       "1                1              92              76            70  AM Ghee 250   \n",
       "\n",
       "    category       date     mmm_yy week_no customer_name      city  \n",
       "0  beverages 2022-03-01 2022-03-01    W 10     Rel Fresh  Vadodara  \n",
       "1      Dairy 2022-03-01 2022-03-01    W 10     Rel Fresh  Vadodara  "
      ]
     },
     "execution_count": 26,
     "metadata": {},
     "output_type": "execute_result"
    }
   ],
   "source": [
    "df_fact_order_lines.head(2)"
   ]
  },
  {
   "cell_type": "markdown",
   "metadata": {},
   "source": [
    "Adding underscore in the columns names"
   ]
  },
  {
   "cell_type": "code",
   "execution_count": 27,
   "metadata": {},
   "outputs": [],
   "source": [
    "df_fact_order_lines.columns = df_fact_order_lines.columns.str.replace(\" \", \"_\")"
   ]
  },
  {
   "cell_type": "code",
   "execution_count": 28,
   "metadata": {},
   "outputs": [
    {
     "data": {
      "text/html": [
       "<div>\n",
       "<style scoped>\n",
       "    .dataframe tbody tr th:only-of-type {\n",
       "        vertical-align: middle;\n",
       "    }\n",
       "\n",
       "    .dataframe tbody tr th {\n",
       "        vertical-align: top;\n",
       "    }\n",
       "\n",
       "    .dataframe thead th {\n",
       "        text-align: right;\n",
       "    }\n",
       "</style>\n",
       "<table border=\"1\" class=\"dataframe\">\n",
       "  <thead>\n",
       "    <tr style=\"text-align: right;\">\n",
       "      <th></th>\n",
       "      <th>order_id</th>\n",
       "      <th>order_placement_date</th>\n",
       "      <th>customer_id</th>\n",
       "      <th>product_id</th>\n",
       "      <th>order_qty</th>\n",
       "      <th>agreed_delivery_date</th>\n",
       "      <th>actual_delivery_date</th>\n",
       "      <th>delivery_qty</th>\n",
       "      <th>In_Full</th>\n",
       "      <th>On_Time</th>\n",
       "      <th>On_Time_In_Full</th>\n",
       "      <th>ontime_target%</th>\n",
       "      <th>infull_target%</th>\n",
       "      <th>otif_target%</th>\n",
       "      <th>product_name</th>\n",
       "      <th>category</th>\n",
       "      <th>date</th>\n",
       "      <th>mmm_yy</th>\n",
       "      <th>week_no</th>\n",
       "      <th>customer_name</th>\n",
       "      <th>city</th>\n",
       "    </tr>\n",
       "  </thead>\n",
       "  <tbody>\n",
       "    <tr>\n",
       "      <th>0</th>\n",
       "      <td>FMR34203601</td>\n",
       "      <td>2022-03-01</td>\n",
       "      <td>789203</td>\n",
       "      <td>25891601</td>\n",
       "      <td>110</td>\n",
       "      <td>Friday, March 4, 2022</td>\n",
       "      <td>2022-03-04</td>\n",
       "      <td>110</td>\n",
       "      <td>1</td>\n",
       "      <td>1</td>\n",
       "      <td>1</td>\n",
       "      <td>92</td>\n",
       "      <td>76</td>\n",
       "      <td>70</td>\n",
       "      <td>AM Tea 500</td>\n",
       "      <td>beverages</td>\n",
       "      <td>2022-03-01</td>\n",
       "      <td>2022-03-01</td>\n",
       "      <td>W 10</td>\n",
       "      <td>Rel Fresh</td>\n",
       "      <td>Vadodara</td>\n",
       "    </tr>\n",
       "    <tr>\n",
       "      <th>1</th>\n",
       "      <td>FMR34203601</td>\n",
       "      <td>2022-03-01</td>\n",
       "      <td>789203</td>\n",
       "      <td>25891301</td>\n",
       "      <td>100</td>\n",
       "      <td>Friday, March 4, 2022</td>\n",
       "      <td>2022-03-04</td>\n",
       "      <td>100</td>\n",
       "      <td>1</td>\n",
       "      <td>1</td>\n",
       "      <td>1</td>\n",
       "      <td>92</td>\n",
       "      <td>76</td>\n",
       "      <td>70</td>\n",
       "      <td>AM Ghee 250</td>\n",
       "      <td>Dairy</td>\n",
       "      <td>2022-03-01</td>\n",
       "      <td>2022-03-01</td>\n",
       "      <td>W 10</td>\n",
       "      <td>Rel Fresh</td>\n",
       "      <td>Vadodara</td>\n",
       "    </tr>\n",
       "  </tbody>\n",
       "</table>\n",
       "</div>"
      ],
      "text/plain": [
       "      order_id order_placement_date  customer_id  product_id  order_qty  \\\n",
       "0  FMR34203601           2022-03-01       789203    25891601        110   \n",
       "1  FMR34203601           2022-03-01       789203    25891301        100   \n",
       "\n",
       "    agreed_delivery_date actual_delivery_date  delivery_qty  In_Full  On_Time  \\\n",
       "0  Friday, March 4, 2022           2022-03-04           110        1        1   \n",
       "1  Friday, March 4, 2022           2022-03-04           100        1        1   \n",
       "\n",
       "   On_Time_In_Full  ontime_target%  infull_target%  otif_target% product_name  \\\n",
       "0                1              92              76            70   AM Tea 500   \n",
       "1                1              92              76            70  AM Ghee 250   \n",
       "\n",
       "    category       date     mmm_yy week_no customer_name      city  \n",
       "0  beverages 2022-03-01 2022-03-01    W 10     Rel Fresh  Vadodara  \n",
       "1      Dairy 2022-03-01 2022-03-01    W 10     Rel Fresh  Vadodara  "
      ]
     },
     "execution_count": 28,
     "metadata": {},
     "output_type": "execute_result"
    }
   ],
   "source": [
    "df_fact_order_lines.head(2)"
   ]
  },
  {
   "cell_type": "code",
   "execution_count": 29,
   "metadata": {},
   "outputs": [],
   "source": [
    "df_fact_order_lines[\"agreed_delivery_date\"] = pd.to_datetime(df_fact_order_lines[\"agreed_delivery_date\"])"
   ]
  },
  {
   "cell_type": "code",
   "execution_count": 30,
   "metadata": {},
   "outputs": [
    {
     "data": {
      "text/html": [
       "<div>\n",
       "<style scoped>\n",
       "    .dataframe tbody tr th:only-of-type {\n",
       "        vertical-align: middle;\n",
       "    }\n",
       "\n",
       "    .dataframe tbody tr th {\n",
       "        vertical-align: top;\n",
       "    }\n",
       "\n",
       "    .dataframe thead th {\n",
       "        text-align: right;\n",
       "    }\n",
       "</style>\n",
       "<table border=\"1\" class=\"dataframe\">\n",
       "  <thead>\n",
       "    <tr style=\"text-align: right;\">\n",
       "      <th></th>\n",
       "      <th>order_id</th>\n",
       "      <th>order_placement_date</th>\n",
       "      <th>customer_id</th>\n",
       "      <th>product_id</th>\n",
       "      <th>order_qty</th>\n",
       "      <th>agreed_delivery_date</th>\n",
       "      <th>actual_delivery_date</th>\n",
       "      <th>delivery_qty</th>\n",
       "      <th>In_Full</th>\n",
       "      <th>On_Time</th>\n",
       "      <th>On_Time_In_Full</th>\n",
       "      <th>ontime_target%</th>\n",
       "      <th>infull_target%</th>\n",
       "      <th>otif_target%</th>\n",
       "      <th>product_name</th>\n",
       "      <th>category</th>\n",
       "      <th>date</th>\n",
       "      <th>mmm_yy</th>\n",
       "      <th>week_no</th>\n",
       "      <th>customer_name</th>\n",
       "      <th>city</th>\n",
       "    </tr>\n",
       "  </thead>\n",
       "  <tbody>\n",
       "    <tr>\n",
       "      <th>0</th>\n",
       "      <td>FMR34203601</td>\n",
       "      <td>2022-03-01</td>\n",
       "      <td>789203</td>\n",
       "      <td>25891601</td>\n",
       "      <td>110</td>\n",
       "      <td>2022-03-04</td>\n",
       "      <td>2022-03-04</td>\n",
       "      <td>110</td>\n",
       "      <td>1</td>\n",
       "      <td>1</td>\n",
       "      <td>1</td>\n",
       "      <td>92</td>\n",
       "      <td>76</td>\n",
       "      <td>70</td>\n",
       "      <td>AM Tea 500</td>\n",
       "      <td>beverages</td>\n",
       "      <td>2022-03-01</td>\n",
       "      <td>2022-03-01</td>\n",
       "      <td>W 10</td>\n",
       "      <td>Rel Fresh</td>\n",
       "      <td>Vadodara</td>\n",
       "    </tr>\n",
       "    <tr>\n",
       "      <th>1</th>\n",
       "      <td>FMR34203601</td>\n",
       "      <td>2022-03-01</td>\n",
       "      <td>789203</td>\n",
       "      <td>25891301</td>\n",
       "      <td>100</td>\n",
       "      <td>2022-03-04</td>\n",
       "      <td>2022-03-04</td>\n",
       "      <td>100</td>\n",
       "      <td>1</td>\n",
       "      <td>1</td>\n",
       "      <td>1</td>\n",
       "      <td>92</td>\n",
       "      <td>76</td>\n",
       "      <td>70</td>\n",
       "      <td>AM Ghee 250</td>\n",
       "      <td>Dairy</td>\n",
       "      <td>2022-03-01</td>\n",
       "      <td>2022-03-01</td>\n",
       "      <td>W 10</td>\n",
       "      <td>Rel Fresh</td>\n",
       "      <td>Vadodara</td>\n",
       "    </tr>\n",
       "  </tbody>\n",
       "</table>\n",
       "</div>"
      ],
      "text/plain": [
       "      order_id order_placement_date  customer_id  product_id  order_qty  \\\n",
       "0  FMR34203601           2022-03-01       789203    25891601        110   \n",
       "1  FMR34203601           2022-03-01       789203    25891301        100   \n",
       "\n",
       "  agreed_delivery_date actual_delivery_date  delivery_qty  In_Full  On_Time  \\\n",
       "0           2022-03-04           2022-03-04           110        1        1   \n",
       "1           2022-03-04           2022-03-04           100        1        1   \n",
       "\n",
       "   On_Time_In_Full  ontime_target%  infull_target%  otif_target% product_name  \\\n",
       "0                1              92              76            70   AM Tea 500   \n",
       "1                1              92              76            70  AM Ghee 250   \n",
       "\n",
       "    category       date     mmm_yy week_no customer_name      city  \n",
       "0  beverages 2022-03-01 2022-03-01    W 10     Rel Fresh  Vadodara  \n",
       "1      Dairy 2022-03-01 2022-03-01    W 10     Rel Fresh  Vadodara  "
      ]
     },
     "execution_count": 30,
     "metadata": {},
     "output_type": "execute_result"
    }
   ],
   "source": [
    "df_fact_order_lines.head(2)"
   ]
  },
  {
   "cell_type": "code",
   "execution_count": 31,
   "metadata": {},
   "outputs": [
    {
     "data": {
      "text/plain": [
       "<Axes: title={'center': 'Orders by cities'}, xlabel='City', ylabel='Total order count'>"
      ]
     },
     "execution_count": 31,
     "metadata": {},
     "output_type": "execute_result"
    },
    {
     "data": {
      "image/png": "[encoded data removed]",
      "text/plain": [
       "<Figure size 1000x300 with 1 Axes>"
      ]
     },
     "metadata": {},
     "output_type": "display_data"
    }
   ],
   "source": [
    "df_fact_order_lines.groupby(\"city\")[[\"In_Full\", \"On_Time\", \"On_Time_In_Full\"]].sum().plot(kind=\"bar\", \n",
    "                                                                                          xlabel=\"City\", \n",
    "                                                                                          ylabel=\"Total order count\", \n",
    "                                                                                          title=\"Orders by cities\",\n",
    "                                                                                          figsize=(10, 3))"
   ]
  },
  {
   "cell_type": "code",
   "execution_count": 32,
   "metadata": {},
   "outputs": [
    {
     "data": {
      "text/html": [
       "<div>\n",
       "<style scoped>\n",
       "    .dataframe tbody tr th:only-of-type {\n",
       "        vertical-align: middle;\n",
       "    }\n",
       "\n",
       "    .dataframe tbody tr th {\n",
       "        vertical-align: top;\n",
       "    }\n",
       "\n",
       "    .dataframe thead th {\n",
       "        text-align: right;\n",
       "    }\n",
       "</style>\n",
       "<table border=\"1\" class=\"dataframe\">\n",
       "  <thead>\n",
       "    <tr style=\"text-align: right;\">\n",
       "      <th></th>\n",
       "      <th>ontime_target%</th>\n",
       "      <th>otif_target%</th>\n",
       "      <th>otif_target%</th>\n",
       "    </tr>\n",
       "    <tr>\n",
       "      <th>city</th>\n",
       "      <th></th>\n",
       "      <th></th>\n",
       "      <th></th>\n",
       "    </tr>\n",
       "  </thead>\n",
       "  <tbody>\n",
       "    <tr>\n",
       "      <th>Ahmedabad</th>\n",
       "      <td>85.84</td>\n",
       "      <td>66.54</td>\n",
       "      <td>66.54</td>\n",
       "    </tr>\n",
       "    <tr>\n",
       "      <th>Surat</th>\n",
       "      <td>86.28</td>\n",
       "      <td>66.38</td>\n",
       "      <td>66.38</td>\n",
       "    </tr>\n",
       "    <tr>\n",
       "      <th>Vadodara</th>\n",
       "      <td>86.18</td>\n",
       "      <td>64.89</td>\n",
       "      <td>64.89</td>\n",
       "    </tr>\n",
       "  </tbody>\n",
       "</table>\n",
       "</div>"
      ],
      "text/plain": [
       "           ontime_target%  otif_target%  otif_target%\n",
       "city                                                 \n",
       "Ahmedabad           85.84         66.54         66.54\n",
       "Surat               86.28         66.38         66.38\n",
       "Vadodara            86.18         64.89         64.89"
      ]
     },
     "execution_count": 32,
     "metadata": {},
     "output_type": "execute_result"
    }
   ],
   "source": [
    "df_city_pct = df_fact_order_lines.groupby(\"city\")[[\"ontime_target%\", \"otif_target%\", \"otif_target%\"]].mean().round(2)\n",
    "df_city_pct"
   ]
  },
  {
   "cell_type": "code",
   "execution_count": 33,
   "metadata": {},
   "outputs": [
    {
     "data": {
      "image/png": "[encoded data removed]",
      "text/plain": [
       "<Figure size 1000x300 with 1 Axes>"
      ]
     },
     "metadata": {},
     "output_type": "display_data"
    }
   ],
   "source": [
    "df_city_pct.plot(kind=\"bar\", \n",
    "                 xlabel=\"City\", \n",
    "                 ylabel=\"Percentage\", \n",
    "                 title=\"Target by city\",\n",
    "                 figsize=(10,3))\n",
    "plt.show()"
   ]
  },
  {
   "cell_type": "code",
   "execution_count": 34,
   "metadata": {},
   "outputs": [
    {
     "data": {
      "text/plain": [
       "[]"
      ]
     },
     "execution_count": 34,
     "metadata": {},
     "output_type": "execute_result"
    },
    {
     "data": {
      "image/png": "[encoded data removed]",
      "text/plain": [
       "<Figure size 1200x400 with 1 Axes>"
      ]
     },
     "metadata": {},
     "output_type": "display_data"
    }
   ],
   "source": [
    "df_fact_order_lines.groupby(\"customer_name\")[[\"order_qty\"]].sum().sort_values(by=\"order_qty\", \n",
    "                                                                              ascending=False).plot(figsize=(12,4), \n",
    "                                                                                                    ylabel=\"Quantity\", \n",
    "                                                                                                    logy=True,\n",
    "                                                                                                    title=\"Quantity by customer name\")\n",
    "plt.plot()"
   ]
  },
  {
   "cell_type": "code",
   "execution_count": 35,
   "metadata": {},
   "outputs": [
    {
     "data": {
      "text/html": [
       "<div>\n",
       "<style scoped>\n",
       "    .dataframe tbody tr th:only-of-type {\n",
       "        vertical-align: middle;\n",
       "    }\n",
       "\n",
       "    .dataframe tbody tr th {\n",
       "        vertical-align: top;\n",
       "    }\n",
       "\n",
       "    .dataframe thead th {\n",
       "        text-align: right;\n",
       "    }\n",
       "</style>\n",
       "<table border=\"1\" class=\"dataframe\">\n",
       "  <thead>\n",
       "    <tr style=\"text-align: right;\">\n",
       "      <th></th>\n",
       "      <th>order_qty</th>\n",
       "      <th>delivery_qty</th>\n",
       "    </tr>\n",
       "    <tr>\n",
       "      <th>category</th>\n",
       "      <th></th>\n",
       "      <th></th>\n",
       "    </tr>\n",
       "  </thead>\n",
       "  <tbody>\n",
       "    <tr>\n",
       "      <th>Dairy</th>\n",
       "      <td>10564711</td>\n",
       "      <td>10204241</td>\n",
       "    </tr>\n",
       "    <tr>\n",
       "      <th>Food</th>\n",
       "      <td>1678481</td>\n",
       "      <td>1622094</td>\n",
       "    </tr>\n",
       "    <tr>\n",
       "      <th>beverages</th>\n",
       "      <td>1183744</td>\n",
       "      <td>1142822</td>\n",
       "    </tr>\n",
       "  </tbody>\n",
       "</table>\n",
       "</div>"
      ],
      "text/plain": [
       "           order_qty  delivery_qty\n",
       "category                          \n",
       "Dairy       10564711      10204241\n",
       "Food         1678481       1622094\n",
       "beverages    1183744       1142822"
      ]
     },
     "execution_count": 35,
     "metadata": {},
     "output_type": "execute_result"
    }
   ],
   "source": [
    "df_fact_order_lines.groupby([\"category\"])[[\"order_qty\", \"delivery_qty\"]].sum()"
   ]
  },
  {
   "cell_type": "code",
   "execution_count": 36,
   "metadata": {},
   "outputs": [
    {
     "data": {
      "image/png": "[encoded data removed]",
      "text/plain": [
       "<Figure size 1000x400 with 1 Axes>"
      ]
     },
     "metadata": {},
     "output_type": "display_data"
    }
   ],
   "source": [
    "df_fact_order_lines.groupby([\"category\"])[[\"order_qty\", \"delivery_qty\"]].sum().plot(ylabel=\"Quantity\", \n",
    "                                                                                    logy=True, \n",
    "                                                                                    figsize=(10,4), \n",
    "                                                                                    title=\"Quantity by Category\"\n",
    "                                                                                    )\n",
    "plt.show()"
   ]
  },
  {
   "cell_type": "markdown",
   "metadata": {},
   "source": [
    "<font color=\"red\">***I want to know that how many orders are made and out of that how many are delivered by the category of food***</font>"
   ]
  },
  {
   "cell_type": "code",
   "execution_count": 37,
   "metadata": {},
   "outputs": [
    {
     "data": {
      "text/html": [
       "<div>\n",
       "<style scoped>\n",
       "    .dataframe tbody tr th:only-of-type {\n",
       "        vertical-align: middle;\n",
       "    }\n",
       "\n",
       "    .dataframe tbody tr th {\n",
       "        vertical-align: top;\n",
       "    }\n",
       "\n",
       "    .dataframe thead th {\n",
       "        text-align: right;\n",
       "    }\n",
       "</style>\n",
       "<table border=\"1\" class=\"dataframe\">\n",
       "  <thead>\n",
       "    <tr style=\"text-align: right;\">\n",
       "      <th></th>\n",
       "      <th>order_qty</th>\n",
       "      <th>delivery_qty</th>\n",
       "    </tr>\n",
       "    <tr>\n",
       "      <th>category</th>\n",
       "      <th></th>\n",
       "      <th></th>\n",
       "    </tr>\n",
       "  </thead>\n",
       "  <tbody>\n",
       "    <tr>\n",
       "      <th>Dairy</th>\n",
       "      <td>3046319</td>\n",
       "      <td>2942381</td>\n",
       "    </tr>\n",
       "    <tr>\n",
       "      <th>Food</th>\n",
       "      <td>480752</td>\n",
       "      <td>464109</td>\n",
       "    </tr>\n",
       "    <tr>\n",
       "      <th>beverages</th>\n",
       "      <td>328199</td>\n",
       "      <td>317135</td>\n",
       "    </tr>\n",
       "  </tbody>\n",
       "</table>\n",
       "</div>"
      ],
      "text/plain": [
       "           order_qty  delivery_qty\n",
       "category                          \n",
       "Dairy        3046319       2942381\n",
       "Food          480752        464109\n",
       "beverages     328199        317135"
      ]
     },
     "execution_count": 37,
     "metadata": {},
     "output_type": "execute_result"
    }
   ],
   "source": [
    "import datetime as dt \n",
    "df_fact_order_lines[(df_fact_order_lines[\"order_placement_date\"].dt.day_name()==\"Saturday\") | (df_fact_order_lines[\"order_placement_date\"].dt.day_name()==\"Sunday\")].groupby(\"category\")[[\"order_qty\", \"delivery_qty\"]].sum()"
   ]
  },
  {
   "cell_type": "code",
   "execution_count": 39,
   "metadata": {},
   "outputs": [
    {
     "data": {
      "text/html": [
       "<div>\n",
       "<style scoped>\n",
       "    .dataframe tbody tr th:only-of-type {\n",
       "        vertical-align: middle;\n",
       "    }\n",
       "\n",
       "    .dataframe tbody tr th {\n",
       "        vertical-align: top;\n",
       "    }\n",
       "\n",
       "    .dataframe thead th {\n",
       "        text-align: right;\n",
       "    }\n",
       "</style>\n",
       "<table border=\"1\" class=\"dataframe\">\n",
       "  <thead>\n",
       "    <tr style=\"text-align: right;\">\n",
       "      <th></th>\n",
       "      <th>order_qty</th>\n",
       "      <th>delivery_qty</th>\n",
       "    </tr>\n",
       "    <tr>\n",
       "      <th>category</th>\n",
       "      <th></th>\n",
       "      <th></th>\n",
       "    </tr>\n",
       "  </thead>\n",
       "  <tbody>\n",
       "    <tr>\n",
       "      <th>Dairy</th>\n",
       "      <td>10564711</td>\n",
       "      <td>10204241</td>\n",
       "    </tr>\n",
       "    <tr>\n",
       "      <th>Food</th>\n",
       "      <td>1678481</td>\n",
       "      <td>1622094</td>\n",
       "    </tr>\n",
       "    <tr>\n",
       "      <th>beverages</th>\n",
       "      <td>1183744</td>\n",
       "      <td>1142822</td>\n",
       "    </tr>\n",
       "  </tbody>\n",
       "</table>\n",
       "</div>"
      ],
      "text/plain": [
       "           order_qty  delivery_qty\n",
       "category                          \n",
       "Dairy       10564711      10204241\n",
       "Food         1678481       1622094\n",
       "beverages    1183744       1142822"
      ]
     },
     "execution_count": 39,
     "metadata": {},
     "output_type": "execute_result"
    }
   ],
   "source": [
    "df_fact_order_lines[(df_fact_order_lines[\"order_placement_date\"].dt.day_name()!=\"Saturday\") | (df_fact_order_lines[\"order_placement_date\"].dt.day_name()!=\"Sunday\")].groupby(\"category\")[[\"order_qty\", \"delivery_qty\"]].sum()"
   ]
  },
  {
   "cell_type": "markdown",
   "metadata": {},
   "source": [
    "<font color=red>***Now, we want to know that which city has placed the highest orders and how many orders orders hve been delivered***</font>"
   ]
  },
  {
   "cell_type": "code",
   "execution_count": 41,
   "metadata": {},
   "outputs": [
    {
     "data": {
      "text/html": [
       "<div>\n",
       "<style scoped>\n",
       "    .dataframe tbody tr th:only-of-type {\n",
       "        vertical-align: middle;\n",
       "    }\n",
       "\n",
       "    .dataframe tbody tr th {\n",
       "        vertical-align: top;\n",
       "    }\n",
       "\n",
       "    .dataframe thead th {\n",
       "        text-align: right;\n",
       "    }\n",
       "</style>\n",
       "<table border=\"1\" class=\"dataframe\">\n",
       "  <thead>\n",
       "    <tr style=\"text-align: right;\">\n",
       "      <th></th>\n",
       "      <th>order_qty</th>\n",
       "      <th>delivery_qty</th>\n",
       "    </tr>\n",
       "    <tr>\n",
       "      <th>city</th>\n",
       "      <th></th>\n",
       "      <th></th>\n",
       "    </tr>\n",
       "  </thead>\n",
       "  <tbody>\n",
       "    <tr>\n",
       "      <th>Ahmedabad</th>\n",
       "      <td>4612298</td>\n",
       "      <td>4462984</td>\n",
       "    </tr>\n",
       "    <tr>\n",
       "      <th>Surat</th>\n",
       "      <td>4190467</td>\n",
       "      <td>4050082</td>\n",
       "    </tr>\n",
       "    <tr>\n",
       "      <th>Vadodara</th>\n",
       "      <td>4624171</td>\n",
       "      <td>4456091</td>\n",
       "    </tr>\n",
       "  </tbody>\n",
       "</table>\n",
       "</div>"
      ],
      "text/plain": [
       "           order_qty  delivery_qty\n",
       "city                              \n",
       "Ahmedabad    4612298       4462984\n",
       "Surat        4190467       4050082\n",
       "Vadodara     4624171       4456091"
      ]
     },
     "execution_count": 41,
     "metadata": {},
     "output_type": "execute_result"
    }
   ],
   "source": [
    "df_fact_order_lines.groupby(\"city\")[[\"order_qty\", \"delivery_qty\"]].sum()"
   ]
  },
  {
   "cell_type": "code",
   "execution_count": 50,
   "metadata": {},
   "outputs": [
    {
     "data": {
      "text/html": [
       "<div>\n",
       "<style scoped>\n",
       "    .dataframe tbody tr th:only-of-type {\n",
       "        vertical-align: middle;\n",
       "    }\n",
       "\n",
       "    .dataframe tbody tr th {\n",
       "        vertical-align: top;\n",
       "    }\n",
       "\n",
       "    .dataframe thead th {\n",
       "        text-align: right;\n",
       "    }\n",
       "</style>\n",
       "<table border=\"1\" class=\"dataframe\">\n",
       "  <thead>\n",
       "    <tr style=\"text-align: right;\">\n",
       "      <th></th>\n",
       "      <th>In_Full</th>\n",
       "      <th>On_Time</th>\n",
       "      <th>On_Time_In_Full</th>\n",
       "      <th>order_qty</th>\n",
       "      <th>delivery_qty</th>\n",
       "    </tr>\n",
       "    <tr>\n",
       "      <th>week_no</th>\n",
       "      <th></th>\n",
       "      <th></th>\n",
       "      <th></th>\n",
       "      <th></th>\n",
       "      <th></th>\n",
       "    </tr>\n",
       "  </thead>\n",
       "  <tbody>\n",
       "    <tr>\n",
       "      <th>W 10</th>\n",
       "      <td>1011</td>\n",
       "      <td>1160</td>\n",
       "      <td>752</td>\n",
       "      <td>369978</td>\n",
       "      <td>357363</td>\n",
       "    </tr>\n",
       "    <tr>\n",
       "      <th>W 11</th>\n",
       "      <td>1492</td>\n",
       "      <td>1544</td>\n",
       "      <td>1056</td>\n",
       "      <td>519367</td>\n",
       "      <td>501474</td>\n",
       "    </tr>\n",
       "    <tr>\n",
       "      <th>W 12</th>\n",
       "      <td>1465</td>\n",
       "      <td>1592</td>\n",
       "      <td>1090</td>\n",
       "      <td>522608</td>\n",
       "      <td>504964</td>\n",
       "    </tr>\n",
       "    <tr>\n",
       "      <th>W 13</th>\n",
       "      <td>1415</td>\n",
       "      <td>1544</td>\n",
       "      <td>1021</td>\n",
       "      <td>506771</td>\n",
       "      <td>489664</td>\n",
       "    </tr>\n",
       "    <tr>\n",
       "      <th>W 14</th>\n",
       "      <td>1444</td>\n",
       "      <td>1561</td>\n",
       "      <td>1058</td>\n",
       "      <td>513167</td>\n",
       "      <td>495894</td>\n",
       "    </tr>\n",
       "    <tr>\n",
       "      <th>W 15</th>\n",
       "      <td>1457</td>\n",
       "      <td>1541</td>\n",
       "      <td>1052</td>\n",
       "      <td>503411</td>\n",
       "      <td>487266</td>\n",
       "    </tr>\n",
       "    <tr>\n",
       "      <th>W 16</th>\n",
       "      <td>1450</td>\n",
       "      <td>1597</td>\n",
       "      <td>1068</td>\n",
       "      <td>521032</td>\n",
       "      <td>503119</td>\n",
       "    </tr>\n",
       "    <tr>\n",
       "      <th>W 17</th>\n",
       "      <td>1440</td>\n",
       "      <td>1598</td>\n",
       "      <td>1043</td>\n",
       "      <td>523220</td>\n",
       "      <td>504555</td>\n",
       "    </tr>\n",
       "    <tr>\n",
       "      <th>W 18</th>\n",
       "      <td>1431</td>\n",
       "      <td>1545</td>\n",
       "      <td>1033</td>\n",
       "      <td>510940</td>\n",
       "      <td>493237</td>\n",
       "    </tr>\n",
       "    <tr>\n",
       "      <th>W 19</th>\n",
       "      <td>1475</td>\n",
       "      <td>1534</td>\n",
       "      <td>1053</td>\n",
       "      <td>522068</td>\n",
       "      <td>505443</td>\n",
       "    </tr>\n",
       "    <tr>\n",
       "      <th>W 20</th>\n",
       "      <td>1470</td>\n",
       "      <td>1572</td>\n",
       "      <td>1048</td>\n",
       "      <td>527575</td>\n",
       "      <td>508479</td>\n",
       "    </tr>\n",
       "    <tr>\n",
       "      <th>W 21</th>\n",
       "      <td>1477</td>\n",
       "      <td>1582</td>\n",
       "      <td>1073</td>\n",
       "      <td>516206</td>\n",
       "      <td>498196</td>\n",
       "    </tr>\n",
       "    <tr>\n",
       "      <th>W 22</th>\n",
       "      <td>1412</td>\n",
       "      <td>1513</td>\n",
       "      <td>1027</td>\n",
       "      <td>508269</td>\n",
       "      <td>491083</td>\n",
       "    </tr>\n",
       "    <tr>\n",
       "      <th>W 23</th>\n",
       "      <td>1480</td>\n",
       "      <td>1597</td>\n",
       "      <td>1079</td>\n",
       "      <td>523227</td>\n",
       "      <td>506337</td>\n",
       "    </tr>\n",
       "    <tr>\n",
       "      <th>W 24</th>\n",
       "      <td>1427</td>\n",
       "      <td>1525</td>\n",
       "      <td>1037</td>\n",
       "      <td>503830</td>\n",
       "      <td>485982</td>\n",
       "    </tr>\n",
       "    <tr>\n",
       "      <th>W 25</th>\n",
       "      <td>1463</td>\n",
       "      <td>1559</td>\n",
       "      <td>1045</td>\n",
       "      <td>522406</td>\n",
       "      <td>504430</td>\n",
       "    </tr>\n",
       "    <tr>\n",
       "      <th>W 26</th>\n",
       "      <td>1447</td>\n",
       "      <td>1568</td>\n",
       "      <td>1062</td>\n",
       "      <td>513081</td>\n",
       "      <td>495333</td>\n",
       "    </tr>\n",
       "    <tr>\n",
       "      <th>W 27</th>\n",
       "      <td>1380</td>\n",
       "      <td>1538</td>\n",
       "      <td>1024</td>\n",
       "      <td>500822</td>\n",
       "      <td>482617</td>\n",
       "    </tr>\n",
       "    <tr>\n",
       "      <th>W 28</th>\n",
       "      <td>1396</td>\n",
       "      <td>1532</td>\n",
       "      <td>1037</td>\n",
       "      <td>492714</td>\n",
       "      <td>475547</td>\n",
       "    </tr>\n",
       "    <tr>\n",
       "      <th>W 29</th>\n",
       "      <td>1442</td>\n",
       "      <td>1588</td>\n",
       "      <td>1078</td>\n",
       "      <td>517120</td>\n",
       "      <td>499171</td>\n",
       "    </tr>\n",
       "    <tr>\n",
       "      <th>W 30</th>\n",
       "      <td>1468</td>\n",
       "      <td>1587</td>\n",
       "      <td>1043</td>\n",
       "      <td>533923</td>\n",
       "      <td>515546</td>\n",
       "    </tr>\n",
       "    <tr>\n",
       "      <th>W 31</th>\n",
       "      <td>1487</td>\n",
       "      <td>1561</td>\n",
       "      <td>1098</td>\n",
       "      <td>516339</td>\n",
       "      <td>499812</td>\n",
       "    </tr>\n",
       "    <tr>\n",
       "      <th>W 32</th>\n",
       "      <td>1446</td>\n",
       "      <td>1604</td>\n",
       "      <td>1071</td>\n",
       "      <td>527012</td>\n",
       "      <td>509129</td>\n",
       "    </tr>\n",
       "    <tr>\n",
       "      <th>W 33</th>\n",
       "      <td>1448</td>\n",
       "      <td>1545</td>\n",
       "      <td>1047</td>\n",
       "      <td>518462</td>\n",
       "      <td>501495</td>\n",
       "    </tr>\n",
       "    <tr>\n",
       "      <th>W 34</th>\n",
       "      <td>1438</td>\n",
       "      <td>1529</td>\n",
       "      <td>1040</td>\n",
       "      <td>510304</td>\n",
       "      <td>492414</td>\n",
       "    </tr>\n",
       "    <tr>\n",
       "      <th>W 35</th>\n",
       "      <td>1476</td>\n",
       "      <td>1537</td>\n",
       "      <td>1050</td>\n",
       "      <td>529907</td>\n",
       "      <td>512625</td>\n",
       "    </tr>\n",
       "    <tr>\n",
       "      <th>W 36</th>\n",
       "      <td>424</td>\n",
       "      <td>452</td>\n",
       "      <td>295</td>\n",
       "      <td>153177</td>\n",
       "      <td>147982</td>\n",
       "    </tr>\n",
       "  </tbody>\n",
       "</table>\n",
       "</div>"
      ],
      "text/plain": [
       "         In_Full  On_Time  On_Time_In_Full  order_qty  delivery_qty\n",
       "week_no                                                            \n",
       "W 10        1011     1160              752     369978        357363\n",
       "W 11        1492     1544             1056     519367        501474\n",
       "W 12        1465     1592             1090     522608        504964\n",
       "W 13        1415     1544             1021     506771        489664\n",
       "W 14        1444     1561             1058     513167        495894\n",
       "W 15        1457     1541             1052     503411        487266\n",
       "W 16        1450     1597             1068     521032        503119\n",
       "W 17        1440     1598             1043     523220        504555\n",
       "W 18        1431     1545             1033     510940        493237\n",
       "W 19        1475     1534             1053     522068        505443\n",
       "W 20        1470     1572             1048     527575        508479\n",
       "W 21        1477     1582             1073     516206        498196\n",
       "W 22        1412     1513             1027     508269        491083\n",
       "W 23        1480     1597             1079     523227        506337\n",
       "W 24        1427     1525             1037     503830        485982\n",
       "W 25        1463     1559             1045     522406        504430\n",
       "W 26        1447     1568             1062     513081        495333\n",
       "W 27        1380     1538             1024     500822        482617\n",
       "W 28        1396     1532             1037     492714        475547\n",
       "W 29        1442     1588             1078     517120        499171\n",
       "W 30        1468     1587             1043     533923        515546\n",
       "W 31        1487     1561             1098     516339        499812\n",
       "W 32        1446     1604             1071     527012        509129\n",
       "W 33        1448     1545             1047     518462        501495\n",
       "W 34        1438     1529             1040     510304        492414\n",
       "W 35        1476     1537             1050     529907        512625\n",
       "W 36         424      452              295     153177        147982"
      ]
     },
     "execution_count": 50,
     "metadata": {},
     "output_type": "execute_result"
    }
   ],
   "source": [
    "df_fact_order_lines.groupby(\"week_no\")[[\"In_Full\",\"On_Time\",\"On_Time_In_Full\",\"order_qty\", \"delivery_qty\"]].sum()"
   ]
  },
  {
   "cell_type": "markdown",
   "metadata": {},
   "source": [
    "From the above code, we came to know that orders which are on time and full are much lesser than the ordered quamtity."
   ]
  },
  {
   "cell_type": "markdown",
   "metadata": {},
   "source": [
    "<font color=red>***Now, we want to know the ordered quamtity and delivery quantity by month***</font>"
   ]
  },
  {
   "cell_type": "code",
   "execution_count": 53,
   "metadata": {},
   "outputs": [],
   "source": [
    "df_fact_order_lines[\"month\"]=df_fact_order_lines[\"order_placement_date\"].dt.month_name()"
   ]
  },
  {
   "cell_type": "code",
   "execution_count": 56,
   "metadata": {},
   "outputs": [
    {
     "data": {
      "text/html": [
       "<div>\n",
       "<style scoped>\n",
       "    .dataframe tbody tr th:only-of-type {\n",
       "        vertical-align: middle;\n",
       "    }\n",
       "\n",
       "    .dataframe tbody tr th {\n",
       "        vertical-align: top;\n",
       "    }\n",
       "\n",
       "    .dataframe thead th {\n",
       "        text-align: right;\n",
       "    }\n",
       "</style>\n",
       "<table border=\"1\" class=\"dataframe\">\n",
       "  <thead>\n",
       "    <tr style=\"text-align: right;\">\n",
       "      <th></th>\n",
       "      <th>order_qty</th>\n",
       "      <th>delivery_qty</th>\n",
       "    </tr>\n",
       "    <tr>\n",
       "      <th>month</th>\n",
       "      <th></th>\n",
       "      <th></th>\n",
       "    </tr>\n",
       "  </thead>\n",
       "  <tbody>\n",
       "    <tr>\n",
       "      <th>May</th>\n",
       "      <td>2298831</td>\n",
       "      <td>2220444</td>\n",
       "    </tr>\n",
       "    <tr>\n",
       "      <th>March</th>\n",
       "      <td>2289498</td>\n",
       "      <td>2211756</td>\n",
       "    </tr>\n",
       "    <tr>\n",
       "      <th>July</th>\n",
       "      <td>2279870</td>\n",
       "      <td>2202316</td>\n",
       "    </tr>\n",
       "    <tr>\n",
       "      <th>April</th>\n",
       "      <td>2200996</td>\n",
       "      <td>2125780</td>\n",
       "    </tr>\n",
       "    <tr>\n",
       "      <th>June</th>\n",
       "      <td>2196371</td>\n",
       "      <td>2119661</td>\n",
       "    </tr>\n",
       "    <tr>\n",
       "      <th>August</th>\n",
       "      <td>2161370</td>\n",
       "      <td>2089200</td>\n",
       "    </tr>\n",
       "  </tbody>\n",
       "</table>\n",
       "</div>"
      ],
      "text/plain": [
       "        order_qty  delivery_qty\n",
       "month                          \n",
       "May       2298831       2220444\n",
       "March     2289498       2211756\n",
       "July      2279870       2202316\n",
       "April     2200996       2125780\n",
       "June      2196371       2119661\n",
       "August    2161370       2089200"
      ]
     },
     "execution_count": 56,
     "metadata": {},
     "output_type": "execute_result"
    }
   ],
   "source": [
    "df_fact_order_lines.groupby(\"month\")[[\"order_qty\", \"delivery_qty\"]].sum().sort_values(by=\"order_qty\", ascending=False)"
   ]
  },
  {
   "cell_type": "code",
   "execution_count": 64,
   "metadata": {},
   "outputs": [
    {
     "data": {
      "text/html": [
       "<div>\n",
       "<style scoped>\n",
       "    .dataframe tbody tr th:only-of-type {\n",
       "        vertical-align: middle;\n",
       "    }\n",
       "\n",
       "    .dataframe tbody tr th {\n",
       "        vertical-align: top;\n",
       "    }\n",
       "\n",
       "    .dataframe thead th {\n",
       "        text-align: right;\n",
       "    }\n",
       "</style>\n",
       "<table border=\"1\" class=\"dataframe\">\n",
       "  <thead>\n",
       "    <tr style=\"text-align: right;\">\n",
       "      <th></th>\n",
       "      <th>ontime_target%</th>\n",
       "      <th>infull_target%</th>\n",
       "      <th>otif_target%</th>\n",
       "    </tr>\n",
       "    <tr>\n",
       "      <th>city</th>\n",
       "      <th></th>\n",
       "      <th></th>\n",
       "      <th></th>\n",
       "    </tr>\n",
       "  </thead>\n",
       "  <tbody>\n",
       "    <tr>\n",
       "      <th>Ahmedabad</th>\n",
       "      <td>89.615797</td>\n",
       "      <td>80.798025</td>\n",
       "      <td>72.413823</td>\n",
       "    </tr>\n",
       "    <tr>\n",
       "      <th>Surat</th>\n",
       "      <td>89.987747</td>\n",
       "      <td>80.673936</td>\n",
       "      <td>72.661682</td>\n",
       "    </tr>\n",
       "    <tr>\n",
       "      <th>Vadodara</th>\n",
       "      <td>89.313904</td>\n",
       "      <td>79.027322</td>\n",
       "      <td>70.675167</td>\n",
       "    </tr>\n",
       "  </tbody>\n",
       "</table>\n",
       "</div>"
      ],
      "text/plain": [
       "           ontime_target%  infull_target%  otif_target%\n",
       "city                                                   \n",
       "Ahmedabad       89.615797       80.798025     72.413823\n",
       "Surat           89.987747       80.673936     72.661682\n",
       "Vadodara        89.313904       79.027322     70.675167"
      ]
     },
     "execution_count": 64,
     "metadata": {},
     "output_type": "execute_result"
    }
   ],
   "source": [
    "df_fact_order_lines[df_fact_order_lines[\"otif_target%\"]>=70].groupby(\"city\")[[\"ontime_target%\", \"infull_target%\", \"otif_target%\"]].mean()"
   ]
  },
  {
   "cell_type": "code",
   "execution_count": 69,
   "metadata": {},
   "outputs": [
    {
     "data": {
      "text/plain": [
       "[Text(0.5, 1.0, 'On-time delivery VS in-full delivery by cities')]"
      ]
     },
     "execution_count": 69,
     "metadata": {},
     "output_type": "execute_result"
    },
    {
     "data": {
      "image/png": "[encoded data removed]",
      "text/plain": [
       "<Figure size 640x480 with 1 Axes>"
      ]
     },
     "metadata": {},
     "output_type": "display_data"
    }
   ],
   "source": [
    "ax = sns.scatterplot(x=\"ontime_target%\", y=\"infull_target%\", data=df_fact_order_lines,hue=\"city\")\n",
    "ax.set(title=\"On-time delivery VS in-full delivery by cities\")"
   ]
  },
  {
   "cell_type": "code",
   "execution_count": 79,
   "metadata": {},
   "outputs": [
    {
     "name": "stderr",
     "output_type": "stream",
     "text": [
      "c:\\Anaconda\\Lib\\site-packages\\seaborn\\_oldcore.py:1119: FutureWarning: use_inf_as_na option is deprecated and will be removed in a future version. Convert inf values to NaN before operating instead.\n",
      "  with pd.option_context('mode.use_inf_as_na', True):\n"
     ]
    },
    {
     "data": {
      "text/plain": [
       "<seaborn.axisgrid.FacetGrid at 0x17a7f8a2610>"
      ]
     },
     "execution_count": 79,
     "metadata": {},
     "output_type": "execute_result"
    },
    {
     "data": {
      "image/png": "[encoded data removed]",
      "text/plain": [
       "<Figure size 500x500 with 1 Axes>"
      ]
     },
     "metadata": {},
     "output_type": "display_data"
    }
   ],
   "source": [
    "sns.displot(x=\"ontime_target%\",data=df_fact_order_lines, kde=True, alpha=1)"
   ]
  },
  {
   "cell_type": "code",
   "execution_count": 78,
   "metadata": {},
   "outputs": [
    {
     "name": "stderr",
     "output_type": "stream",
     "text": [
      "c:\\Anaconda\\Lib\\site-packages\\seaborn\\_oldcore.py:1119: FutureWarning: use_inf_as_na option is deprecated and will be removed in a future version. Convert inf values to NaN before operating instead.\n",
      "  with pd.option_context('mode.use_inf_as_na', True):\n"
     ]
    },
    {
     "data": {
      "text/plain": [
       "<seaborn.axisgrid.FacetGrid at 0x17a001d9950>"
      ]
     },
     "execution_count": 78,
     "metadata": {},
     "output_type": "execute_result"
    },
    {
     "data": {
      "image/png": "[encoded data removed]",
      "text/plain": [
       "<Figure size 500x500 with 1 Axes>"
      ]
     },
     "metadata": {},
     "output_type": "display_data"
    }
   ],
   "source": [
    "sns.displot(x=\"infull_target%\",data=df_fact_order_lines, kde=True, alpha=1) "
   ]
  },
  {
   "cell_type": "code",
   "execution_count": 82,
   "metadata": {},
   "outputs": [
    {
     "data": {
      "text/plain": [
       "<seaborn.axisgrid.FacetGrid at 0x17a006f2310>"
      ]
     },
     "execution_count": 82,
     "metadata": {},
     "output_type": "execute_result"
    },
    {
     "data": {
      "image/png": "[encoded data removed]",
      "text/plain": [
       "<Figure size 634.125x500 with 1 Axes>"
      ]
     },
     "metadata": {},
     "output_type": "display_data"
    }
   ],
   "source": [
    "sns.lmplot(x=\"ontime_target%\", y=\"infull_target%\", data=df_fact_order_lines,hue=\"city\")"
   ]
  },
  {
   "cell_type": "code",
   "execution_count": 93,
   "metadata": {},
   "outputs": [
    {
     "data": {
      "text/plain": [
       "[Text(0.5, 1.0, 'OTIF target VS Category by Category')]"
      ]
     },
     "execution_count": 93,
     "metadata": {},
     "output_type": "execute_result"
    },
    {
     "data": {
      "image/png": "[encoded data removed]",
      "text/plain": [
       "<Figure size 640x480 with 1 Axes>"
      ]
     },
     "metadata": {},
     "output_type": "display_data"
    }
   ],
   "source": [
    "ax = sns.barplot(x=\"category\", y=\"otif_target%\", hue=\"city\", data=df_fact_order_lines)\n",
    "ax.set_yscale('log')\n",
    "ax.set(title=\"OTIF target VS Category by Category\")\n"
   ]
  },
  {
   "cell_type": "markdown",
   "metadata": {},
   "source": [
    "We can see that ahmedabad is doing much better than other states"
   ]
  },
  {
   "cell_type": "code",
   "execution_count": 90,
   "metadata": {},
   "outputs": [
    {
     "data": {
      "text/plain": [
       "[Text(0.5, 1.0, 'OTIF  target by month for each product category')]"
      ]
     },
     "execution_count": 90,
     "metadata": {},
     "output_type": "execute_result"
    },
    {
     "data": {
      "image/png": "[encoded data removed]",
      "text/plain": [
       "<Figure size 640x480 with 1 Axes>"
      ]
     },
     "metadata": {},
     "output_type": "display_data"
    }
   ],
   "source": [
    "ax = sns.barplot(x=\"month\", y=\"otif_target%\", hue=\"category\", data=df_fact_order_lines)\n",
    "ax.set_yscale('log')\n",
    "ax.set(title=\"OTIF  target by month for each product category\")"
   ]
  },
  {
   "cell_type": "markdown",
   "metadata": {},
   "source": [
    "Now we can compare these categories by months based on the OTIF target percentage"
   ]
  }
 ],
 "metadata": {
  "kernelspec": {
   "display_name": "base",
   "language": "python",
   "name": "python3"
  },
  "language_info": {
   "codemirror_mode": {
    "name": "ipython",
    "version": 3
   },
   "file_extension": ".py",
   "mimetype": "text/x-python",
   "name": "python",
   "nbconvert_exporter": "python",
   "pygments_lexer": "ipython3",
   "version": "3.11.5"
  }
 },
 "nbformat": 4,
 "nbformat_minor": 2
}
